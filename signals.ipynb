{
 "cells": [
  {
   "cell_type": "markdown",
   "metadata": {},
   "source": [
    "1. Synchronous Signal Access Within Effects"
   ]
  },
  {
   "cell_type": "code",
   "execution_count": null,
   "metadata": {},
   "outputs": [],
   "source": [
    "import { signal, computed, effect } from 'npm:alien-signals';\n",
    "\n",
    "const count = signal(0);\n",
    "\n",
    "effect(() => {\n",
    "  console.log(count());\n",
    "});\n",
    "\n",
    "count(1);\n",
    "count(2);"
   ]
  },
  {
   "cell_type": "markdown",
   "metadata": {},
   "source": [
    "2. Access Signal Value Asynchronously in Effect"
   ]
  },
  {
   "cell_type": "code",
   "execution_count": null,
   "metadata": {},
   "outputs": [],
   "source": [
    "import { signal, computed, effect } from 'npm:alien-signals';\n",
    "\n",
    "const count = signal(0);\n",
    "\n",
    "effect(() => {\n",
    "  setTimeout(() => {\n",
    "    console.log(count());\n",
    "  })\n",
    "});\n",
    "\n",
    "count(1);\n",
    "count(2);"
   ]
  }
 ],
 "metadata": {
  "kernelspec": {
   "display_name": "Deno",
   "language": "typescript",
   "name": "deno"
  },
  "language_info": {
   "codemirror_mode": "typescript",
   "file_extension": ".ts",
   "mimetype": "text/x.typescript",
   "name": "typescript",
   "nbconvert_exporter": "script",
   "pygments_lexer": "typescript",
   "version": "5.7.3"
  }
 },
 "nbformat": 4,
 "nbformat_minor": 2
}
